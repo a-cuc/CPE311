{
  "cells": [
    {
      "cell_type": "code",
      "execution_count": null,
      "metadata": {
        "id": "MAraWuP0MNTq"
      },
      "outputs": [],
      "source": [
        "class Sheep:\n",
        "  def __init__(self, name = \"Sheep\"):\n",
        "    self.name = name\n",
        "  def __eq__(self, other): # used for checking if object in list is equal to object\n",
        "    return self.name == other.name"
      ]
    },
    {
      "cell_type": "code",
      "execution_count": null,
      "metadata": {
        "id": "ntM4-ektMQuC"
      },
      "outputs": [],
      "source": [
        "class Cabbage:\n",
        "  def __init__(self, name=\"Cabbage\"):\n",
        "    self.name = name\n",
        "  def __eq__(self, other): # used for checking if object in list is equal to object\n",
        "    return self.name == other.name"
      ]
    },
    {
      "cell_type": "code",
      "execution_count": null,
      "metadata": {
        "id": "4W88cyaMMSs6"
      },
      "outputs": [],
      "source": [
        "class Wolf:\n",
        "  def __init__(self, name = \"Wolf\"):\n",
        "    self.name = name\n",
        "  def __eq__(self, other): # used for checking if object in list is equal to object\n",
        "    return self.name == other.name"
      ]
    },
    {
      "cell_type": "code",
      "execution_count": null,
      "metadata": {
        "id": "QHqbdu6OMUx4"
      },
      "outputs": [],
      "source": [
        "class Island:\n",
        "  def __init__(self, content = [], name = \"Island\"):\n",
        "    self.content = content\n",
        "    self.name = name\n",
        "\n",
        "  def evaluate(self):\n",
        "    if len(self.content) == 2 and isinstance(self.content[0], Wolf) and isinstance(self.content[1], Sheep):\n",
        "      print(\"\\nThe wolf ate the sheep\")\n",
        "      return 1\n",
        "    elif len(self.content) == 2 and isinstance(self.content[0], Sheep) and isinstance(self.content[1], Cabbage):\n",
        "      print(\"\\nThe sheep ate the cabbage\")\n",
        "      return 1\n",
        "\n",
        "  def getContents(self):\n",
        "    if self.content:\n",
        "      for element in self.content:\n",
        "        print(element.name)\n",
        "    else:\n",
        "      print(\"Island empty\")\n",
        "\n",
        "  def finish(self):\n",
        "    return self.content\n"
      ]
    },
    {
      "cell_type": "code",
      "execution_count": null,
      "metadata": {
        "id": "y1LoZGagMY4Q"
      },
      "outputs": [],
      "source": [
        "class location:\n",
        "  def __init__(self, location = None):\n",
        "    self.location = location"
      ]
    },
    {
      "cell_type": "code",
      "execution_count": null,
      "metadata": {
        "id": "hB5IIcB9MZgy"
      },
      "outputs": [],
      "source": [
        "class Boat:\n",
        "  def __init__(self, content=[], island = \"Island1\"):\n",
        "    self.content = content\n",
        "    self.location = island\n",
        "\n",
        "  def transfer(self, passenger, source=None, target=None):\n",
        "    if target: # with target island\n",
        "      self.content.remove(passenger)\n",
        "      target.content.append(passenger)\n",
        "      print(\"\\nUnload \"+passenger.name+\" to \"+target.name)\n",
        "    else: # transfer to boat only\n",
        "      if source:\n",
        "        self.content.append(passenger)\n",
        "        source.content.remove(passenger)\n",
        "        print(\"\\nLoad \"+passenger.name+\" to the boat\")\n",
        "      else:\n",
        "        print(\"\\nError: no source island\")\n",
        "\n",
        "  def travel(self, island):\n",
        "      if island == Island1:\n",
        "        print(\"\\nBoat travelled to Island1\")\n",
        "        self.location = island\n",
        "      elif island == Island2:\n",
        "        print(\"\\nBoat travelled to Island2\")\n",
        "        self.location = island\n",
        "\n",
        "  def getloc(self):\n",
        "      return self.location\n",
        "\n",
        "  def getcont(self):\n",
        "      return self.content\n"
      ]
    },
    {
      "cell_type": "code",
      "execution_count": null,
      "metadata": {
        "id": "O3GhAFH3Mhv1"
      },
      "outputs": [],
      "source": [
        "def play_game():\n",
        "  while True:\n",
        "      answer = input(\"\\nNext Action? (Travel, Load, Unload): \")\n",
        "      if answer == \"Travel\":\n",
        "          if boat.getloc() == Island1:\n",
        "              boat.travel(Island2)\n",
        "              print(\"\\nIsland 2:\")\n",
        "              island2.getContents()\n",
        "          elif boat.getloc() == Island2:\n",
        "              boat.travel(Island1)\n",
        "              print(\"\\nIsland 1:\")\n",
        "              island1.getContents()\n",
        "          counter1 = island1.evaluate()\n",
        "          counter2 = island2.evaluate()\n",
        "          if counter1 == 1 or counter2 == 1:\n",
        "              print(\"\\nGAME OVER\\nBETTER LUCK NEXT TIME\")\n",
        "              break\n",
        "      elif answer == \"Load\":\n",
        "          passenger = input(\"\\nWhat will be loaded? \")\n",
        "          if boat.getloc() == Island1:\n",
        "              if passenger == \"Wolf\":\n",
        "                  boat.transfer(wolf, island1)\n",
        "                  print(\"\\nIsland 1:\")\n",
        "                  island1.getContents()\n",
        "              elif passenger == \"Sheep\":\n",
        "                  boat.transfer(sheep, island1)\n",
        "                  print(\"\\nIsland 1:\")\n",
        "                  island1.getContents()\n",
        "              elif passenger == \"Cabbage\":\n",
        "                  boat.transfer(cabbage, island1)\n",
        "                  print(\"\\nIsland 1:\")\n",
        "                  island1.getContents()\n",
        "          elif boat.getloc() == Island2:\n",
        "              if passenger == \"Wolf\":\n",
        "                  boat.transfer(wolf, island2)\n",
        "                  print(\"\\nIsland 2:\")\n",
        "                  island2.getContents()\n",
        "              elif passenger == \"Sheep\":\n",
        "                  boat.transfer(sheep, island2)\n",
        "                  print(\"\\nIsland 2:\")\n",
        "                  island2.getContents()\n",
        "              elif passenger == \"Cabbage\":\n",
        "                  boat.transfer(cabbage, island2)\n",
        "                  print(\"\\nIsland 2:\")\n",
        "                  island2.getContents()\n",
        "      elif answer == \"Unload\":\n",
        "          if boat.getloc() == Island1:\n",
        "              if wolf in boat.getcont():\n",
        "                  boat.transfer(wolf, None, island1)\n",
        "                  print(\"\\nIsland 1:\")\n",
        "                  island1.getContents()\n",
        "              elif sheep in boat.getcont():\n",
        "                  boat.transfer(sheep, None, island1)\n",
        "                  print(\"\\nIsland 1:\")\n",
        "                  island1.getContents()\n",
        "              elif cabbage in boat.getcont():\n",
        "                  boat.transfer(cabbage, None, island1)\n",
        "                  print(\"\\nIsland 1:\")\n",
        "                  island1.getContents()\n",
        "          elif boat.getloc() == Island2:\n",
        "              if wolf in boat.getcont():\n",
        "                  boat.transfer(wolf, None, island2)\n",
        "                  print(\"\\nIsland 2:\")\n",
        "                  island2.getContents()\n",
        "              elif sheep in boat.getcont():\n",
        "                  boat.transfer(sheep, None, island2)\n",
        "                  print(\"\\nIsland 2:\")\n",
        "                  island2.getContents()\n",
        "              elif cabbage in boat.getcont():\n",
        "                  boat.transfer(cabbage, None, island2)\n",
        "                  print(\"\\nIsland 2:\")\n",
        "                  island2.getContents()\n",
        "\n",
        "      if island1.finish() == [] and len(island2.finish()) == 3 and wolf in island2.finish() and sheep in island2.finish() and cabbage in island2.finish():\n",
        "          print(\"\\nWINNER\\nTHANK YOU FOR PLAYING\")\n",
        "          break"
      ]
    },
    {
      "cell_type": "code",
      "execution_count": null,
      "metadata": {
        "colab": {
          "background_save": true,
          "base_uri": "https://localhost:8080/"
        },
        "id": "HP_bfVuGMKb9",
        "outputId": "a065a8d1-20a2-4a6d-8e31-e6fc80d1241d"
      },
      "outputs": [
        {
          "name": "stdout",
          "output_type": "stream",
          "text": [
            "Boat Puzzle\n",
            "---------\n",
            "Transfer Wolf, Sheep, and Cabbage to Island 2\n",
            "Wolf, Sheep, and Cabbage are all on Island 1\n",
            "---------\n",
            "\n",
            "Boat travelled to Island1\n",
            "\n",
            "Island 1:\n",
            "Wolf\n",
            "Sheep\n",
            "Cabbage\n",
            "\n",
            "Load Cabbage to the boat\n",
            "\n",
            "Island 1:\n",
            "Wolf\n",
            "Sheep\n",
            "\n",
            "Unload Cabbage to Island 1\n",
            "\n",
            "Island 1:\n",
            "Wolf\n",
            "Sheep\n",
            "Cabbage\n",
            "\n",
            "Load Sheep to the boat\n",
            "\n",
            "Island 1:\n",
            "Wolf\n",
            "Cabbage\n",
            "\n",
            "Boat travelled to Island2\n",
            "\n",
            "Island 2:\n",
            "Island empty\n",
            "\n",
            "Unload Sheep to Island 2\n",
            "\n",
            "Island 2:\n",
            "Sheep\n",
            "\n",
            "Boat travelled to Island1\n",
            "\n",
            "Island 1:\n",
            "Wolf\n",
            "Cabbage\n",
            "\n",
            "Load Wolf to the boat\n",
            "\n",
            "Island 1:\n",
            "Cabbage\n",
            "\n",
            "Boat travelled to Island2\n",
            "\n",
            "Island 2:\n",
            "Sheep\n",
            "\n",
            "Unload Wolf to Island 2\n",
            "\n",
            "Island 2:\n",
            "Sheep\n",
            "Wolf\n",
            "\n",
            "Boat travelled to Island1\n",
            "\n",
            "Island 1:\n",
            "Cabbage\n"
          ]
        }
      ],
      "source": [
        "wolf = Wolf()\n",
        "sheep = Sheep()\n",
        "cabbage = Cabbage()\n",
        "Island1 = location()\n",
        "Island2 = location()\n",
        "\n",
        "island1 = Island([wolf, sheep, cabbage], \"Island 1\")\n",
        "island2 = Island([],\"Island 2\")\n",
        "boat = Boat()\n",
        "\n",
        "print(\"Boat Puzzle\")\n",
        "print(\"---------\")\n",
        "print(\"Transfer Wolf, Sheep, and Cabbage to Island 2\")\n",
        "print(\"Wolf, Sheep, and Cabbage are all on Island 1\")\n",
        "print(\"---------\")\n",
        "\n",
        "boat.travel(Island1)\n",
        "print(\"\\nIsland 1:\")\n",
        "island1.getContents()\n",
        "\n",
        "play_game()"
      ]
    },
    {
      "cell_type": "markdown",
      "metadata": {
        "id": "68C65Dcp48lD"
      },
      "source": [
        "Collab Links:\n",
        "\n",
        "User Input - https://colab.research.google.com/drive/1ewKYhx6LqYh56OseR5AGPfY_huhv50JJ?usp=sharing\n",
        "\n",
        "Simulation Only - https://colab.research.google.com/drive/1rZDmxH-nLfr_hAW74T-NKxYSgjdGiVwg?usp=sharing"
      ]
    }
  ],
  "metadata": {
    "colab": {
      "provenance": []
    },
    "kernelspec": {
      "display_name": "Python 3",
      "name": "python3"
    },
    "language_info": {
      "name": "python"
    }
  },
  "nbformat": 4,
  "nbformat_minor": 0
}