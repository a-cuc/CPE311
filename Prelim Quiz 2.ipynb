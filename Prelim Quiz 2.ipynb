{
  "nbformat": 4,
  "nbformat_minor": 0,
  "metadata": {
    "colab": {
      "provenance": [],
      "authorship_tag": "ABX9TyNhirYLgVsd1uwHyOjBNhhd",
      "include_colab_link": true
    },
    "kernelspec": {
      "name": "python3",
      "display_name": "Python 3"
    },
    "language_info": {
      "name": "python"
    }
  },
  "cells": [
    {
      "cell_type": "markdown",
      "metadata": {
        "id": "view-in-github",
        "colab_type": "text"
      },
      "source": [
        "<a href=\"https://colab.research.google.com/github/a-cuc/CPE311/blob/main/Prelim%20Quiz%202.ipynb\" target=\"_parent\"><img src=\"https://colab.research.google.com/assets/colab-badge.svg\" alt=\"Open In Colab\"/></a>"
      ]
    },
    {
      "cell_type": "code",
      "execution_count": 17,
      "metadata": {
        "colab": {
          "base_uri": "https://localhost:8080/"
        },
        "id": "Q9nvQh7kBipL",
        "outputId": "d4510eff-53b7-4124-b9af-fc911b27d930"
      },
      "outputs": [
        {
          "name": "stdout",
          "output_type": "stream",
          "text": [
            "Enter money C: 100\n",
            "Enter how many denominations: 1\n",
            "Enter denomination 2: 10\n"
          ]
        },
        {
          "output_type": "execute_result",
          "data": {
            "text/plain": [
              "[100.0, 100.0]"
            ]
          },
          "metadata": {},
          "execution_count": 17
        }
      ],
      "source": [
        "def getInput(): # works\n",
        "  c = int(input(\"Enter money C: \"))\n",
        "  vSize = int(input(\"Enter how many denominations: \"))\n",
        "  v = [1] # v(1) = 1\n",
        "  for i in range(1, vSize+1):\n",
        "    denomination = int(input(\"Enter denomination \" + str(i+1) + \": \")) # assumes denominations are in increasing order\n",
        "    v.append(denomination)\n",
        "  return c, v\n",
        "\n",
        "def solve(c, v):\n",
        "  bottomUpTable = [0] * len(v)\n",
        "  sortedV = sorted(v, reverse = True)\n",
        "  for i in range(0, len(bottomUpTable)):\n",
        "    for denom in sortedV:\n",
        "      if c >= denom:\n",
        "        bottomUpTable[i] = c/denom\n",
        "  return bottomUpTable\n",
        "\n",
        "\n",
        "\n",
        "c, v = getInput()\n",
        "solve(c, v)"
      ]
    }
  ]
}