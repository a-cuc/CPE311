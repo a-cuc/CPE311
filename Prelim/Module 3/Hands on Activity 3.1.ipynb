{
  "cells": [
    {
      "cell_type": "markdown",
      "metadata": {
        "id": "view-in-github",
        "colab_type": "text"
      },
      "source": [
        "<a href=\"https://colab.research.google.com/github/a-cuc/CPE311/blob/main/Hands%20on%20Activity%201.3.ipynb\" target=\"_parent\"><img src=\"https://colab.research.google.com/assets/colab-badge.svg\" alt=\"Open In Colab\"/></a>"
      ]
    },
    {
      "cell_type": "markdown",
      "id": "32f3b9e1",
      "metadata": {
        "id": "32f3b9e1"
      },
      "source": [
        "# Hands-on Activity 1.3 | Transportation using Graphs"
      ]
    },
    {
      "cell_type": "markdown",
      "id": "a51e92c8",
      "metadata": {
        "id": "a51e92c8"
      },
      "source": [
        "#### Objective(s):\n",
        "\n",
        "This activity aims to demonstrate how to solve transportation related problem using Graphs"
      ]
    },
    {
      "cell_type": "markdown",
      "id": "3d40df8b",
      "metadata": {
        "id": "3d40df8b"
      },
      "source": [
        "#### Intended Learning Outcomes (ILOs):\n",
        "* Demonstrate how to compute the shortest path from source to destination using graphs\n",
        "* Apply DFS and BFS to compute the shortest path"
      ]
    },
    {
      "cell_type": "markdown",
      "id": "ed8f98b6",
      "metadata": {
        "id": "ed8f98b6"
      },
      "source": [
        "#### Resources:\n",
        "* Jupyter Notebook"
      ]
    },
    {
      "cell_type": "markdown",
      "id": "36301665",
      "metadata": {
        "id": "36301665"
      },
      "source": [
        "#### Procedures:"
      ]
    },
    {
      "cell_type": "markdown",
      "id": "a2f20257",
      "metadata": {
        "id": "a2f20257"
      },
      "source": [
        "1. Create a Node class"
      ]
    },
    {
      "cell_type": "code",
      "execution_count": 4,
      "id": "43c51c35",
      "metadata": {
        "id": "43c51c35"
      },
      "outputs": [],
      "source": [
        "class Node(object):\n",
        "    def __init__(self, name):\n",
        "        \"\"\"Assumes name is a string\"\"\"\n",
        "        self.name = name\n",
        "    def getName(self):\n",
        "        return self.name\n",
        "    def __str__(self):\n",
        "        return self.name"
      ]
    },
    {
      "cell_type": "markdown",
      "id": "d4cd747e",
      "metadata": {
        "id": "d4cd747e"
      },
      "source": [
        "2. Create an Edge class"
      ]
    },
    {
      "cell_type": "code",
      "execution_count": 5,
      "id": "b585ad3a",
      "metadata": {
        "id": "b585ad3a"
      },
      "outputs": [],
      "source": [
        "class Edge(object):\n",
        "    def __init__(self, src, dest):\n",
        "        \"\"\"Assumes src and dest are nodes\"\"\"\n",
        "        self.src = src\n",
        "        self.dest = dest\n",
        "    def getSource(self):\n",
        "        return self.src\n",
        "    def getDestination(self):\n",
        "        return self.dest\n",
        "    def __str__(self):\n",
        "        return self.src.getName() + '->' + self.dest.getName()"
      ]
    },
    {
      "cell_type": "markdown",
      "id": "43fb73dd",
      "metadata": {
        "id": "43fb73dd"
      },
      "source": [
        "3. Create Digraph class that add nodes and edges"
      ]
    },
    {
      "cell_type": "code",
      "execution_count": 6,
      "id": "68d3735b",
      "metadata": {
        "id": "68d3735b"
      },
      "outputs": [],
      "source": [
        "class Digraph(object):\n",
        "    \"\"\"edges is a dict mapping each node to a list of\n",
        "    its children\"\"\"\n",
        "    def __init__(self):\n",
        "        self.edges = {}\n",
        "    def addNode(self, node):\n",
        "        if node in self.edges:\n",
        "            raise ValueError('Duplicate node')\n",
        "        else:\n",
        "            self.edges[node] = []\n",
        "    def addEdge(self, edge):\n",
        "        src = edge.getSource()\n",
        "        dest = edge.getDestination()\n",
        "        if not (src in self.edges and dest in self.edges):\n",
        "            raise ValueError('Node not in graph')\n",
        "        self.edges[src].append(dest)\n",
        "    def childrenOf(self, node):\n",
        "        return self.edges[node]\n",
        "    def hasNode(self, node):\n",
        "        return node in self.edges\n",
        "    def getNode(self, name):\n",
        "        for n in self.edges:\n",
        "            if n.getName() == name:\n",
        "                return n\n",
        "        raise NameError(name)\n",
        "    def __str__(self):\n",
        "        result = ''\n",
        "        for src in self.edges:\n",
        "            for dest in self.edges[src]:\n",
        "                result = result + src.getName() + '->'\\\n",
        "                         + dest.getName() + '\\n'\n",
        "        return result[:-1] #omit final newline"
      ]
    },
    {
      "cell_type": "markdown",
      "id": "4df80036",
      "metadata": {
        "id": "4df80036"
      },
      "source": [
        "4. Create a Graph class from Digraph class that deifnes the destination and Source"
      ]
    },
    {
      "cell_type": "code",
      "execution_count": 7,
      "id": "451f786f",
      "metadata": {
        "id": "451f786f"
      },
      "outputs": [],
      "source": [
        "class Graph(Digraph):\n",
        "    def addEdge(self, edge):\n",
        "        Digraph.addEdge(self, edge)\n",
        "        rev = Edge(edge.getDestination(), edge.getSource())\n",
        "        Digraph.addEdge(self, rev)"
      ]
    },
    {
      "cell_type": "markdown",
      "id": "a1834ccf",
      "metadata": {
        "id": "a1834ccf"
      },
      "source": [
        "5. Create a buildCityGraph method to add nodes (City) and edges   (source to destination)"
      ]
    },
    {
      "cell_type": "code",
      "execution_count": 8,
      "id": "048f4f16",
      "metadata": {
        "id": "048f4f16"
      },
      "outputs": [],
      "source": [
        "def buildCityGraph(graphType):\n",
        "    g = graphType()\n",
        "    for name in ('Boston', 'Providence', 'New York', 'Chicago', 'Denver', 'Phoenix', 'Los Angeles'):\n",
        "        #Create 7 nodes\n",
        "        g.addNode(Node(name))\n",
        "    g.addEdge(Edge(g.getNode('Boston'), g.getNode('Providence')))\n",
        "    g.addEdge(Edge(g.getNode('Boston'), g.getNode('New York')))\n",
        "    g.addEdge(Edge(g.getNode('Providence'), g.getNode('Boston')))\n",
        "    g.addEdge(Edge(g.getNode('Providence'), g.getNode('New York')))\n",
        "    g.addEdge(Edge(g.getNode('New York'), g.getNode('Chicago')))\n",
        "    g.addEdge(Edge(g.getNode('Chicago'), g.getNode('Denver')))\n",
        "    g.addEdge(Edge(g.getNode('Denver'), g.getNode('Phoenix')))\n",
        "    g.addEdge(Edge(g.getNode('Denver'), g.getNode('New York')))\n",
        "    g.addEdge(Edge(g.getNode('Los Angeles'), g.getNode('Boston')))\n",
        "    return g"
      ]
    },
    {
      "cell_type": "code",
      "execution_count": 9,
      "id": "8172d371",
      "metadata": {
        "id": "8172d371"
      },
      "outputs": [],
      "source": [
        "def printPath(path):\n",
        "    \"\"\"Assumes path is a list of nodes\"\"\"\n",
        "    result = ''\n",
        "    for i in range(len(path)):\n",
        "        result = result + str(path[i])\n",
        "        if i != len(path) - 1:\n",
        "            result = result + '->'\n",
        "    return result"
      ]
    },
    {
      "cell_type": "markdown",
      "id": "b5d8bbe4",
      "metadata": {
        "id": "b5d8bbe4"
      },
      "source": [
        "6. Create a method to define DFS technique"
      ]
    },
    {
      "cell_type": "code",
      "execution_count": 10,
      "id": "019a8c61",
      "metadata": {
        "id": "019a8c61"
      },
      "outputs": [],
      "source": [
        "def DFS(graph, start, end, path, shortest, toPrint = False):\n",
        "    \"\"\"Assumes graph is a Digraph; start and end are nodes;\n",
        "          path and shortest are lists of nodes\n",
        "       Returns a shortest path from start to end in graph\"\"\"\n",
        "    path = path + [start]\n",
        "    if toPrint:\n",
        "        print('Current DFS path:', printPath(path))\n",
        "    if start == end:\n",
        "        return path\n",
        "    for node in graph.childrenOf(start): # explores a child of the node\n",
        "        if node not in path: # avoid cycles\n",
        "            if shortest == None or len(path) < len(shortest): # if none currently shortest path OR shorter path found\n",
        "                newPath = DFS(graph, node, end, path, shortest, # recur with start being current node\n",
        "                              toPrint)\n",
        "                if newPath != None: # if newPath has been found\n",
        "                    shortest = newPath # shortest path is new path\n",
        "        elif toPrint:\n",
        "            print('Already visited', node)\n",
        "    return shortest\n",
        "# when used, toPrint should be True in order for the recursion to print final path"
      ]
    },
    {
      "cell_type": "markdown",
      "id": "9457ef55",
      "metadata": {
        "id": "9457ef55"
      },
      "source": [
        "7. Define a shortestPath method to return the shortest path from source to destination using DFS"
      ]
    },
    {
      "cell_type": "code",
      "execution_count": 11,
      "id": "e435e3ce",
      "metadata": {
        "id": "e435e3ce"
      },
      "outputs": [],
      "source": [
        "def shortestPath(graph, start, end, toPrint = False):\n",
        "    \"\"\"Assumes graph is a Digraph; start and end are nodes\n",
        "       Returns a shortest path from start to end in graph\"\"\"\n",
        "    return DFS(graph, start, end, [], None, toPrint)"
      ]
    },
    {
      "cell_type": "markdown",
      "id": "084a1713",
      "metadata": {
        "id": "084a1713"
      },
      "source": [
        "8. Create a method to test the shortest path method"
      ]
    },
    {
      "cell_type": "code",
      "execution_count": 12,
      "id": "4ebad313",
      "metadata": {
        "id": "4ebad313"
      },
      "outputs": [],
      "source": [
        "def testSP(source, destination):\n",
        "    g = buildCityGraph(Digraph)\n",
        "    sp = shortestPath(g, g.getNode(source), g.getNode(destination),\n",
        "                      toPrint = True)\n",
        "    if sp != None:\n",
        "        print('Shortest path from', source, 'to',\n",
        "              destination, 'is', printPath(sp))\n",
        "    else:\n",
        "        print('There is no path from', source, 'to', destination)"
      ]
    },
    {
      "cell_type": "markdown",
      "id": "397fcad6",
      "metadata": {
        "id": "397fcad6"
      },
      "source": [
        "9. Execute the testSP method"
      ]
    },
    {
      "cell_type": "code",
      "execution_count": 13,
      "id": "7b0da96e",
      "metadata": {
        "id": "7b0da96e",
        "outputId": "f4a8716a-8e5b-4ac7-959c-e161856834fb",
        "colab": {
          "base_uri": "https://localhost:8080/",
          "height": 0
        }
      },
      "outputs": [
        {
          "output_type": "stream",
          "name": "stdout",
          "text": [
            "Current DFS path: Boston\n",
            "Current DFS path: Boston->Providence\n",
            "Already visited Boston\n",
            "Current DFS path: Boston->Providence->New York\n",
            "Current DFS path: Boston->Providence->New York->Chicago\n",
            "Current DFS path: Boston->Providence->New York->Chicago->Denver\n",
            "Current DFS path: Boston->Providence->New York->Chicago->Denver->Phoenix\n",
            "Already visited New York\n",
            "Current DFS path: Boston->New York\n",
            "Current DFS path: Boston->New York->Chicago\n",
            "Current DFS path: Boston->New York->Chicago->Denver\n",
            "Current DFS path: Boston->New York->Chicago->Denver->Phoenix\n",
            "Already visited New York\n",
            "Shortest path from Boston to Phoenix is Boston->New York->Chicago->Denver->Phoenix\n"
          ]
        }
      ],
      "source": [
        "testSP('Boston', 'Phoenix')"
      ]
    },
    {
      "cell_type": "markdown",
      "id": "be62a0ea",
      "metadata": {
        "id": "be62a0ea"
      },
      "source": [
        "##### Question:\n",
        "    \n",
        "Describe the DFS method to compute for the shortest path using the given sample codes"
      ]
    },
    {
      "cell_type": "markdown",
      "id": "cb6ecea8",
      "metadata": {
        "id": "cb6ecea8"
      },
      "source": [
        "From what I understand, the first step is to create a graph and in the sample code it is a directed graph which stores the vertices and edges in an object. The next step is to create a function which makes use of recursion to explore a single node until its end before exploring other nodes.\n",
        "\n",
        "More details are found on the comments of the ```DFS()``` method."
      ]
    },
    {
      "cell_type": "markdown",
      "id": "7bec3a35",
      "metadata": {
        "id": "7bec3a35"
      },
      "source": [
        "10. Create a method to define BFS technique"
      ]
    },
    {
      "cell_type": "code",
      "execution_count": 74,
      "id": "baddc3be",
      "metadata": {
        "id": "baddc3be"
      },
      "outputs": [],
      "source": [
        "def BFS(graph, start, end, toPrint = False):\n",
        "    \"\"\"Assumes graph is a Digraph; start and end are nodes\n",
        "       Returns a shortest path from start to end in graph\"\"\"\n",
        "    initPath = [start]\n",
        "    pathQueue = [initPath] # stores possible paths\n",
        "    while len(pathQueue) != 0:\n",
        "        #Get and remove oldest element in pathQueue\n",
        "        tmpPath = pathQueue.pop(0)\n",
        "        if toPrint:\n",
        "            print('Current BFS path:', printPath(tmpPath))\n",
        "\n",
        "        lastNode = tmpPath[-1] # last node is last element on temp path list\n",
        "        if lastNode == end: # if last node the one that we're looking\n",
        "            return tmpPath # return the temp path\n",
        "\n",
        "        for nextNode in graph.childrenOf(lastNode): # iterates over children of last node\n",
        "            if nextNode not in tmpPath: # avoid cycles\n",
        "                newPath = tmpPath + [nextNode] # appends next node to new path\n",
        "                pathQueue.append(newPath)\n",
        "    return None\n",
        "# when used, toPrint should be True in order for the recursion to print final path"
      ]
    },
    {
      "cell_type": "markdown",
      "id": "050edf85",
      "metadata": {
        "id": "050edf85"
      },
      "source": [
        "11. Define a shortestPath method to return the shortest path from source to destination using DFS"
      ]
    },
    {
      "cell_type": "code",
      "execution_count": 75,
      "id": "0a595716",
      "metadata": {
        "id": "0a595716"
      },
      "outputs": [],
      "source": [
        "def shortestPath(graph, start, end, toPrint = False):\n",
        "    \"\"\"Assumes graph is a Digraph; start and end are nodes\n",
        "       Returns a shortest path from start to end in graph\"\"\"\n",
        "    return BFS(graph, start, end, toPrint)"
      ]
    },
    {
      "cell_type": "markdown",
      "id": "abd00a05",
      "metadata": {
        "id": "abd00a05"
      },
      "source": [
        "12. Execute the testSP method"
      ]
    },
    {
      "cell_type": "code",
      "execution_count": 76,
      "id": "a942ee6b",
      "metadata": {
        "id": "a942ee6b",
        "outputId": "8691f4ed-61c2-4b08-aa2d-17d7094958e2",
        "colab": {
          "base_uri": "https://localhost:8080/",
          "height": 0
        }
      },
      "outputs": [
        {
          "output_type": "stream",
          "name": "stdout",
          "text": [
            "Current BFS path: Boston\n",
            "Current BFS path: Boston->Providence\n",
            "Current BFS path: Boston->New York\n",
            "Current BFS path: Boston->Providence->New York\n",
            "Current BFS path: Boston->New York->Chicago\n",
            "Current BFS path: Boston->Providence->New York->Chicago\n",
            "Current BFS path: Boston->New York->Chicago->Denver\n",
            "Current BFS path: Boston->Providence->New York->Chicago->Denver\n",
            "Current BFS path: Boston->New York->Chicago->Denver->Phoenix\n",
            "Shortest path from Boston to Phoenix is Boston->New York->Chicago->Denver->Phoenix\n"
          ]
        }
      ],
      "source": [
        "testSP('Boston', 'Phoenix')"
      ]
    },
    {
      "cell_type": "markdown",
      "id": "c7bbd794",
      "metadata": {
        "id": "c7bbd794"
      },
      "source": [
        "#### Question:\n",
        "    \n",
        "Describe the BFS method to compute for the shortest path using the given sample codestion:\n",
        "    \n",
        "The BFS method somewhat uses the bottom-up approach to the algorithm as the path is being built with the use of a queue. More details are commented on the ```BFS()``` method"
      ]
    },
    {
      "cell_type": "markdown",
      "id": "287801ae",
      "metadata": {
        "id": "287801ae"
      },
      "source": [
        "#### Supplementary Activitiy\n",
        "* Use a specific location or city to solve transportation using graph\n",
        "\n",
        "  <font color = \"darkblue\"> Sampaloc, Manila to Cubao, Quezon City </font>\n",
        "* Use DFS and BFS methods to compute the shortest path\n",
        "* Display the shortest path from source to destination using DFS and BFS\n",
        "* Differentiate the performance of DFS from BFS"
      ]
    },
    {
      "cell_type": "markdown",
      "source": [
        "Graph Visualization\n",
        "![Assignment.png](data:image/png;base64,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)"
      ],
      "metadata": {
        "id": "KgK8vFXNYNch"
      },
      "id": "KgK8vFXNYNch"
    },
    {
      "cell_type": "code",
      "source": [
        "def createSuppGraph(): # makes a directed graph\n",
        "  g = Digraph()\n",
        "  for name in (\"Espana\", \"Welcome Rotonda\", \"E. Rodriguez\", \"EDSA\", \"Cubao\", \"Tomas Morato\", \"Kamuning\", \"Pureza\", \"Gilmore\"):\n",
        "    g.addNode(Node(name))\n",
        "  g.addEdge(Edge(g.getNode(\"Espana\"), g.getNode(\"Welcome Rotonda\")))\n",
        "  g.addEdge(Edge(g.getNode(\"Espana\"), g.getNode(\"Pureza\")))\n",
        "  g.addEdge(Edge(g.getNode(\"Pureza\"), g.getNode(\"Gilmore\")))\n",
        "  g.addEdge(Edge(g.getNode(\"Gilmore\"), g.getNode(\"Cubao\")))\n",
        "  g.addEdge(Edge(g.getNode(\"Welcome Rotonda\"), g.getNode(\"E. Rodriguez\")))\n",
        "  g.addEdge(Edge(g.getNode(\"E. Rodriguez\"), g.getNode(\"Tomas Morato\")))\n",
        "  g.addEdge(Edge(g.getNode(\"E. Rodriguez\"), g.getNode(\"EDSA\")))\n",
        "  g.addEdge(Edge(g.getNode(\"Tomas Morato\"), g.getNode(\"Kamuning\")))\n",
        "  g.addEdge(Edge(g.getNode(\"Kamuning\"), g.getNode(\"EDSA\")))\n",
        "  g.addEdge(Edge(g.getNode(\"EDSA\"), g.getNode(\"Cubao\")))\n",
        "  return g\n",
        "suppGraph = createSuppGraph()"
      ],
      "metadata": {
        "id": "7Fh9EnSTmceU"
      },
      "id": "7Fh9EnSTmceU",
      "execution_count": 62,
      "outputs": []
    },
    {
      "cell_type": "code",
      "execution_count": 73,
      "id": "b7e4231f",
      "metadata": {
        "id": "b7e4231f",
        "colab": {
          "base_uri": "https://localhost:8080/",
          "height": 35
        },
        "outputId": "1e15f22f-8c5d-4faa-a606-9c64ab553d64"
      },
      "outputs": [
        {
          "output_type": "execute_result",
          "data": {
            "text/plain": [
              "'Espana->Pureza->Gilmore->Cubao'"
            ],
            "application/vnd.google.colaboratory.intrinsic+json": {
              "type": "string"
            }
          },
          "metadata": {},
          "execution_count": 73
        }
      ],
      "source": [
        "# type your code here using DFS\n",
        "def suppDFS(graph, source, destination, current_path=[], all_paths=[]):\n",
        "\n",
        "  current_path.append(source) # add current node to the path\n",
        "\n",
        "  if source == destination: # when destination is reached,\n",
        "      all_paths.append(current_path[:]) # append a copy of the current path to all_paths\n",
        "\n",
        "  for child in graph.childrenOf(source): # finds all paths\n",
        "      if child not in current_path: # prevent cycles\n",
        "          suppDFS(graph, child, destination, current_path[:], all_paths)\n",
        "\n",
        "  return min(all_paths, key=len) # gets the shortest path on all_paths\n",
        "\n",
        "resultA = suppDFS(suppGraph, suppGraph.getNode(\"Espana\"), suppGraph.getNode(\"Cubao\"))\n",
        "printPath(resultA)"
      ]
    },
    {
      "cell_type": "code",
      "execution_count": 121,
      "id": "baecad6d",
      "metadata": {
        "id": "baecad6d",
        "colab": {
          "base_uri": "https://localhost:8080/",
          "height": 35
        },
        "outputId": "1d2870c0-30f0-42dd-dae1-516e75ff043c"
      },
      "outputs": [
        {
          "output_type": "execute_result",
          "data": {
            "text/plain": [
              "'Espana->Pureza->Gilmore->Cubao'"
            ],
            "application/vnd.google.colaboratory.intrinsic+json": {
              "type": "string"
            }
          },
          "metadata": {},
          "execution_count": 121
        }
      ],
      "source": [
        "# type your code here using BFS\n",
        "def suppBFS(graph, source, destination):\n",
        "  queue = [(source, [source])] # initialize the queue with the source node and its path\n",
        "  while queue:\n",
        "      current_node, path = queue.pop(0) # remove the first element\n",
        "      for child in graph.childrenOf(current_node): # explores every adjacent node\n",
        "          if child not in path: # prevent cycles\n",
        "              if child == destination: # if the child is the destination, return the path\n",
        "                  return path + [child]\n",
        "              else: # else add the child node with its updated path\n",
        "                  queue.append((child, path + [child]))\n",
        "  return None # if destination not found, return None\n",
        "resultB = suppBFS(suppGraph, suppGraph.getNode(\"Espana\"), suppGraph.getNode(\"Cubao\"))\n",
        "printPath(resultB)"
      ]
    },
    {
      "cell_type": "markdown",
      "id": "a8447b32",
      "metadata": {
        "id": "a8447b32"
      },
      "source": [
        "#Type your evaluation about the performance of DFS and BFS\n",
        "\n",
        "DFS is more space consuming as it considers every path before choosing the shortest path, however for graphs with long distances between nodes this would be better.\n",
        "\n",
        "For graphs with short distances BFS is better since the result would already be the shortest path but it would be going per level, so the farther the distance the more vertices it would travel."
      ]
    },
    {
      "cell_type": "markdown",
      "id": "159ad18e",
      "metadata": {
        "id": "159ad18e"
      },
      "source": [
        "#### Conclusion"
      ]
    },
    {
      "cell_type": "markdown",
      "id": "b384d644",
      "metadata": {
        "id": "b384d644"
      },
      "source": [
        "#Type your conclusion here\n",
        "\n",
        "I conclude that there are two primary ways of finding the shortest path possible in a graph, the depth-first search and the breadth first search, each of them has their use cases and knowing when to use them is crucial for solving the shortest path problem efficiently."
      ]
    }
  ],
  "metadata": {
    "kernelspec": {
      "display_name": "Python 3",
      "language": "python",
      "name": "python3"
    },
    "language_info": {
      "codemirror_mode": {
        "name": "ipython",
        "version": 3
      },
      "file_extension": ".py",
      "mimetype": "text/x-python",
      "name": "python",
      "nbconvert_exporter": "python",
      "pygments_lexer": "ipython3",
      "version": "3.7.10"
    },
    "colab": {
      "provenance": [],
      "include_colab_link": true
    }
  },
  "nbformat": 4,
  "nbformat_minor": 5
}