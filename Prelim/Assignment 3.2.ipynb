{
  "nbformat": 4,
  "nbformat_minor": 0,
  "metadata": {
    "colab": {
      "provenance": [],
      "authorship_tag": "ABX9TyMvHiPjrxUv7pbj5ZO2A89w",
      "include_colab_link": true
    },
    "kernelspec": {
      "name": "python3",
      "display_name": "Python 3"
    },
    "language_info": {
      "name": "python"
    }
  },
  "cells": [
    {
      "cell_type": "markdown",
      "metadata": {
        "id": "view-in-github",
        "colab_type": "text"
      },
      "source": [
        "<a href=\"https://colab.research.google.com/github/a-cuc/CPE311/blob/main/Assignment%203.2.ipynb\" target=\"_parent\"><img src=\"https://colab.research.google.com/assets/colab-badge.svg\" alt=\"Open In Colab\"/></a>"
      ]
    },
    {
      "cell_type": "code",
      "execution_count": 6,
      "metadata": {
        "colab": {
          "base_uri": "https://localhost:8080/",
          "height": 0
        },
        "id": "OU-ap9CzAs_o",
        "outputId": "e71d5c1d-0f1c-4922-deed-ed7e9c71be7e"
      },
      "outputs": [
        {
          "name": "stdout",
          "output_type": "stream",
          "text": [
            "Enter how many people and transactions: 4 5\n",
            "Enter transaction id 1: a\n",
            "Enter how many payer and how many splits: 1 1\n",
            "Enter payer and amount paid: 1 60\n",
            "Enter borrower and amount borrowed: 2 60\n",
            "Enter transaction id 2: b\n",
            "Enter how many payer and how many splits: 1 1\n",
            "Enter payer and amount paid: 2 40\n",
            "Enter borrower and amount borrowed: 3 40\n",
            "Enter transaction id 3: c\n",
            "Enter how many payer and how many splits: 1 1\n",
            "Enter payer and amount paid: 3 30\n",
            "Enter borrower and amount borrowed: 4 30\n",
            "Enter transaction id 4: d\n",
            "Enter how many payer and how many splits: 1 1\n",
            "Enter payer and amount paid: 4 30\n",
            "Enter borrower and amount borrowed: 3 30\n",
            "Enter transaction id 5: e\n",
            "Enter how many payer and how many splits: 1 1\n",
            "Enter payer and amount paid: 3 20\n",
            "Enter borrower and amount borrowed: 1 20\n"
          ]
        },
        {
          "output_type": "execute_result",
          "data": {
            "text/plain": [
              "[(1, 3, 20), (1, 2, 20)]"
            ]
          },
          "metadata": {},
          "execution_count": 6
        }
      ],
      "source": [
        "def getInput():\n",
        "  while True: # to enable asking for user input again\n",
        "    try:\n",
        "      n,m = map(int, input(\"Enter how many people and transactions: \").split())\n",
        "      if not (2 <= n <= 200000 and 1 <= m <= 5000): # error handling to satisfy first and second constraint\n",
        "        raise ValueError(\"n or m out of range\")\n",
        "      transactions = []\n",
        "      for i in range(m):\n",
        "        transaction_id = input(\"Enter transaction id \" + str(i+1) + \": \")\n",
        "        n_payers,n_splits = map(int, input(\"Enter how many payer and how many splits: \").split())\n",
        "        if not (1 <= n_payers + n_splits <=50): # error handling to satisfy third constraint\n",
        "          raise ValueError(\"number of payers and splits out of range\")\n",
        "        paid_by = []\n",
        "        transactionAmount = 0\n",
        "        for j in range(n_payers):\n",
        "          payer,amount_p = map(int, input(\"Enter payer and amount paid: \").split())\n",
        "          paid_by.append([payer, amount_p])\n",
        "          transactionAmount += amount_p\n",
        "        split_as = []\n",
        "        for k in range(n_splits):\n",
        "          borrower,amount_s = map(int, input(\"Enter borrower and amount borrowed: \").split())\n",
        "          split_as.append([borrower, amount_s])\n",
        "          transactionAmount += amount_s\n",
        "        if not (1 <= transactionAmount <= 10000000): # error handling to satisfy fourth constraint\n",
        "          raise ValueError(\"amount exchanged in transaction out of range\")\n",
        "        transactions.append({\"transaction_id\": transaction_id, \"paid_by\": paid_by, \"split_as\": split_as})\n",
        "      return n, transactions\n",
        "    except ValueError as e:\n",
        "      print(e)\n",
        "\n",
        "\n",
        "def solve(n, transactionList):\n",
        "  # gets the net balance of each member\n",
        "  transactionResult = [] # stores the transactions in the form of (payer_id, payee_id, amount)\n",
        "  currentBalance = [[i + 1, 0] for i in range(n)] # generates a list of balances of each member\n",
        "  for transaction in transactionList: # iterates through every transaction\n",
        "    paid_by = transaction[\"paid_by\"]\n",
        "    split_as = transaction[\"split_as\"]\n",
        "\n",
        "    for payer, amount_p in paid_by: # subtracts to balance\n",
        "      currentBalance[payer - 1][1] -= amount_p\n",
        "    for borrower, amount_s in split_as: # adds to balance\n",
        "      currentBalance[borrower - 1][1] += amount_s\n",
        "\n",
        "  # uses greedy algorithm to solve problem\n",
        "  sortedList = sorted(enumerate(currentBalance), key = lambda x : x[1][1]) # sorts the balance in ascending order\n",
        "  for i in range(len(sortedList)):\n",
        "    payorID, payorBalance = sortedList[i] # gets current member (payor)\n",
        "\n",
        "    if payorBalance[1] >= 0: # positive cashflow\n",
        "      continue\n",
        "    for j in range(len(sortedList) - 1, i, -1): # start from end of balances\n",
        "      payeeID, payeeBalance = sortedList[j] # gets current member (payee)\n",
        "      if payeeBalance[1] <= 0: # negative cashlow\n",
        "        continue\n",
        "      transferAmount = min(-payorBalance[1], payeeBalance[1]) # get the minimum balance to transfer\n",
        "      currentBalance[payorID][1] += transferAmount # update balance\n",
        "      currentBalance[payeeID][1] -= transferAmount\n",
        "      transactionResult.append((payorID + 1, payeeID + 1, transferAmount)) # add to transaction list\n",
        "      if currentBalance[payorID][1] == 0:\n",
        "        break\n",
        "\n",
        "  return transactionResult\n",
        "\n",
        "n, transactions = getInput()\n",
        "solve(n, transactions)"
      ]
    }
  ]
}