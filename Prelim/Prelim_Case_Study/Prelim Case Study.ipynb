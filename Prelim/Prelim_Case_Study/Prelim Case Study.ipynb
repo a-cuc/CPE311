{
  "nbformat": 4,
  "nbformat_minor": 0,
  "metadata": {
    "colab": {
      "provenance": [],
      "include_colab_link": true
    },
    "kernelspec": {
      "name": "python3",
      "display_name": "Python 3"
    },
    "language_info": {
      "name": "python"
    }
  },
  "cells": [
    {
      "cell_type": "markdown",
      "metadata": {
        "id": "view-in-github",
        "colab_type": "text"
      },
      "source": [
        "<a href=\"https://colab.research.google.com/github/a-cuc/CPE311/blob/main/Prelim%20Case%20Study.ipynb\" target=\"_parent\"><img src=\"https://colab.research.google.com/assets/colab-badge.svg\" alt=\"Open In Colab\"/></a>"
      ]
    },
    {
      "cell_type": "markdown",
      "source": [
        "# **CASE STUDY 1**: **Solving Real-World Problems using Computational Thinking**\n",
        "\n"
      ],
      "metadata": {
        "id": "EDMeWnMNSt-r"
      }
    },
    {
      "cell_type": "markdown",
      "source": [
        "**Real-World Problem:**\n",
        "\n",
        "\n",
        "Our real-world problem is determining how many days they can procastinate/delay completing an assignment while still finishing it on time. They will provide details such as the total number of pages, their daily productivity, and the deadline. The code will calculate the maximum allowable delay, facilitating better time management and ensuring timely submission.\n",
        "\n"
      ],
      "metadata": {
        "id": "7T3wFQW-UKAv"
      }
    },
    {
      "cell_type": "markdown",
      "source": [
        "1. This function getInput() which is used to collect input from the user regarding their assignment details. It prompts the user to input the total number of pages in the assignment, the rate at which they can complete pages per day, and the number of days until the assignment deadline."
      ],
      "metadata": {
        "id": "5q59DFHHaNzP"
      }
    },
    {
      "cell_type": "code",
      "source": [
        "def getInput():\n",
        "    # Function to get inputs from the user\n",
        "    pages = int(input(\"How many pages is your assignment? \")) # Input: Total number of pages in the assignment\n",
        "    rate = int(input(\"How many pages can you do per day? \"))   # Input: Rate of pages completed per day\n",
        "    deadline = int(input(\"In how many days is the deadline? \")) # Input: Deadline for the assignment\n",
        "    return pages, rate, deadline"
      ],
      "metadata": {
        "id": "BYlkTXz5aL0s"
      },
      "execution_count": null,
      "outputs": []
    },
    {
      "cell_type": "markdown",
      "source": [
        "2. The function compute that calculates how many days one can procrastinate on a task given the total number of pages to be completed, the rate of completion, and the deadline. It uses a loop to simulate daily progress and returns the number of remaining days until the deadline if the task can be completed, or -1 if it cannot."
      ],
      "metadata": {
        "id": "0Rw5kXu9aOrT"
      }
    },
    {
      "cell_type": "code",
      "source": [
        "def compute(pages, rate, deadline):\n",
        "    table = [0] * (deadline + 1) # Initialize a list to store progress per day\n",
        "    for day in range(1, deadline + 1): # Iterate over each day until the deadline\n",
        "        table[day] = table[day-1] + rate # Calculate the total progress up to the current day\n",
        "        if table[day] >= pages: # If the total pages are reached or exceeded\n",
        "            return deadline - day # Return the remaining days left until the deadline\n",
        "    print(\"You cannot procrastinate\") # If the assignment cannot be completed by the deadline\n",
        "    return -1 # Return -1 indicating inability to procrastinate\n",
        "\n",
        "# Main part of the code\n",
        "inputA, inputB, inputC = getInput() # Get inputs from the user\n",
        "print(\"You can procrastinate for \" + str(compute(inputA, inputB, inputC)) + \" days\") # Print the result"
      ],
      "metadata": {
        "colab": {
          "base_uri": "https://localhost:8080/"
        },
        "id": "A6nUnGuLxD7c",
        "outputId": "07c147e9-4600-43ba-805d-cae975af9fed"
      },
      "execution_count": null,
      "outputs": [
        {
          "output_type": "stream",
          "name": "stdout",
          "text": [
            "How many pages is your assignment? 20\n",
            "How many pages can you do per day? 5\n",
            "In how many days is the deadline? 6\n",
            "You can procrastinate for 2 days\n"
          ]
        }
      ]
    }
  ]
}